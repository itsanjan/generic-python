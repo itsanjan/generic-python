{
 "cells": [
  {
   "cell_type": "code",
   "execution_count": 12,
   "metadata": {},
   "outputs": [
    {
     "name": "stdout",
     "output_type": "stream",
     "text": [
      "Enter the level value for patterns : 5\n",
      "\n",
      "*\n",
      "**\n",
      "***\n",
      "****\n",
      "*****\n",
      "\n",
      "*****\n",
      "****\n",
      "***\n",
      "**\n",
      "*\n",
      "\n",
      "\n",
      "*****\n",
      " ****\n",
      "  ***\n",
      "   **\n",
      "    *\n",
      "     \n"
     ]
    }
   ],
   "source": [
    "    #-- P05_Pattern.py\n",
    "    \n",
    "    def tree_pattern(level):\n",
    "        '''\n",
    "        This function prints the following pattern:\n",
    "        <blank>\n",
    "        *\n",
    "        **\n",
    "        ***\n",
    "        ****\n",
    "        '''\n",
    "        for n in range(0, level+1):\n",
    "            print('*'*n, end='\\n')\n",
    "            \n",
    "    def inverted_tree_pattern(level):\n",
    "        '''\n",
    "        This function prints the following pattern:\n",
    "        <blank>\n",
    "        ****\n",
    "        ***\n",
    "        **\n",
    "        *\n",
    "        '''\n",
    "        print()\n",
    "        for n in range(0, level+1):\n",
    "            print('*'*(level-n), end='\\n')\n",
    "            \n",
    "    def right_aligned_inverted_tree_pattern(level):\n",
    "        '''This function prints the following pattern:\n",
    "        <blank>\n",
    "        ****\n",
    "         ***\n",
    "          **\n",
    "           *\n",
    "        '''\n",
    "        print()\n",
    "        for n in range(0, level+1):\n",
    "            print(' '*n + '*'*(level-n), end='\\n')\n",
    "            \n",
    "    if __name__=='__main__':\n",
    "        ip_level = int(input(\"Enter the level value for patterns : \"))\n",
    "        tree_pattern(ip_level)\n",
    "        inverted_tree_pattern(ip_level)\n",
    "        right_aligned_inverted_tree_pattern(ip_level)\n",
    "\n",
    "\n",
    "        "
   ]
  },
  {
   "cell_type": "code",
   "execution_count": 14,
   "metadata": {},
   "outputs": [
    {
     "name": "stdout",
     "output_type": "stream",
     "text": [
      "Enter a string : anjan\n",
      "j 1\n",
      "a 2\n",
      "n 2\n"
     ]
    }
   ],
   "source": [
    "# P06_CharCount.py\n",
    "\n",
    "def count_character(input):\n",
    "    # This function counts the frequency in the input string\n",
    "    for char in set(input):\n",
    "        print(char, input.count(char))\n",
    "        \n",
    "if __name__ == '__main__':\n",
    "    user_input = str(input(\"Enter a string : \"))\n",
    "    count_character(user_input)"
   ]
  },
  {
   "cell_type": "code",
   "execution_count": 34,
   "metadata": {},
   "outputs": [
    {
     "name": "stdout",
     "output_type": "stream",
     "text": [
      "Enter number to check to for prime : 101\n",
      "Number is prime\n"
     ]
    }
   ],
   "source": [
    "# P07_PrimeNumber.py\n",
    "#This program checks whether the entered number is prime or not\n",
    "\n",
    "def checkPrime(number):\n",
    "    count = 0\n",
    "    if number < 0 :\n",
    "        print (\"Number must be positive\")\n",
    "    \n",
    "    if number > 0 :\n",
    "        for n in range(2,int(number/2)+1):\n",
    "            if number % n == 0 :\n",
    "                isPrime = False\n",
    "            else :\n",
    "                isPrime = True\n",
    "\n",
    "    if isPrime : print(\"Number is prime\")\n",
    "    else : print(\"Number is composite\")\n",
    "        \n",
    "if __name__ == '__main__':\n",
    "    input_number = int(input('Enter number to check to for prime : '))\n",
    "    checkPrime(input_number)"
   ]
  },
  {
   "cell_type": "code",
   "execution_count": 48,
   "metadata": {},
   "outputs": [
    {
     "name": "stdout",
     "output_type": "stream",
     "text": [
      "Enter a number : 9\n",
      "0,1,1,2,3,5,8,13,21,"
     ]
    }
   ],
   "source": [
    "# P08_Fibonacci.py\n",
    "# This program calculates the fibonacci series till the nth term\n",
    "# 0 1 1 2 3 5 8 13 21 34 ...\n",
    "\n",
    "def fibonacci_number_seq(number):\n",
    "    a = 0\n",
    "    b = 1\n",
    "    print(a, end=',')\n",
    "    for n in range(1, number):\n",
    "        a, b = a + b, a\n",
    "        print(a, end=','))\n",
    "    \n",
    "    \n",
    "if __name__ == '__main__':\n",
    "    user_input = int(input('Enter a number : '))\n",
    "    fibonacci_number_seq(user_input)                  "
   ]
  },
  {
   "cell_type": "code",
   "execution_count": 58,
   "metadata": {},
   "outputs": [
    {
     "name": "stdout",
     "output_type": "stream",
     "text": [
      "Enter a number : 3 7\n",
      "LCM is 21\n"
     ]
    }
   ],
   "source": [
    "# P10_LCM.py\n",
    "# common multiple of a & b will definitely be a*b, we need to just check if there is any one smaller (least)\n",
    "\n",
    "def getLCM(a,b):\n",
    "    for num in range(1, a*b+1):\n",
    "        if (num % a == 0) and (num % b == 0):\n",
    "            print(\"LCM is {0}\".format(str(num)))\n",
    "            break\n",
    "            \n",
    "if __name__ == '__main__':\n",
    "    user_input1, user_input2 = input('Enter a number : ').split()\n",
    "    getLCM(int(user_input1), int(user_input2) )"
   ]
  },
  {
   "cell_type": "code",
   "execution_count": 67,
   "metadata": {},
   "outputs": [
    {
     "name": "stdout",
     "output_type": "stream",
     "text": [
      "Enter a number : 111\n",
      "1 11\n",
      "3 1\n",
      "7 0\n",
      "7\n"
     ]
    }
   ],
   "source": [
    "# P11_BinaryToDecimal.py\n",
    "\n",
    "def BinToDec(binary):\n",
    "    decimal = n = 0\n",
    "    while(binary):\n",
    "        decimal = decimal + int((binary % 10)*pow(2,n))\n",
    "        binary = binary // 10\n",
    "        n+=1\n",
    "    print(decimal)\n",
    "\n",
    "if __name__ == '__main__':\n",
    "    user_input = int(input('Enter a number : '))\n",
    "    BinToDec(user_input) "
   ]
  },
  {
   "cell_type": "code",
   "execution_count": 78,
   "metadata": {},
   "outputs": [
    {
     "name": "stdout",
     "output_type": "stream",
     "text": [
      "Enter a number : 32\n",
      "[0]\n",
      "[0, 0]\n",
      "[0, 0, 0]\n",
      "[0, 0, 0, 0]\n",
      "[0, 0, 0, 0, 0]\n",
      "[0, 0, 0, 0, 0, 1]\n",
      "None\n"
     ]
    }
   ],
   "source": [
    "# P12_DecimalToBinary.py\n",
    "# INCORRECT\n",
    "\n",
    "def DecToBin(decimal):\n",
    "    binary = []\n",
    "    while(decimal):\n",
    "        Q = decimal // 2\n",
    "        binary.append(decimal % 2)\n",
    "        decimal = Q\n",
    "        print(binary)\n",
    "    print(binary.reverse())\n",
    "        \n",
    "if __name__ == '__main__':\n",
    "    user_input = int(input('Enter a number : '))\n",
    "    DecToBin(user_input)        \n",
    "        "
   ]
  },
  {
   "cell_type": "code",
   "execution_count": 3,
   "metadata": {},
   "outputs": [
    {
     "name": "stdout",
     "output_type": "stream",
     "text": [
      "Enter the string to test : racecar\n",
      "String is palindrome\n"
     ]
    }
   ],
   "source": [
    "# P13_Palindrome.py\n",
    "\n",
    "def isPalindrome(string):\n",
    "    revString = string[::-1]\n",
    "    if string == revString : print(\"String is palindrome\")\n",
    "    else : print(\"String is not a palindrome\")\n",
    "        \n",
    "if __name__ == '__main__':\n",
    "    inputString = input(\"Enter the string to test : \")\n",
    "    isPalindrome(inputString)"
   ]
  },
  {
   "cell_type": "code",
   "execution_count": 7,
   "metadata": {},
   "outputs": [
    {
     "name": "stdout",
     "output_type": "stream",
     "text": [
      "Enter the string to test : 7\n",
      "Number is greater\n"
     ]
    }
   ],
   "source": [
    "# P14_checjGreater.py\n",
    "#This program checks that the given number is greater than all those numbers in th list\n",
    "\n",
    "def checkGreater(Number):\n",
    "    orignal = [1,2,3,4,5]\n",
    "    orignal.sort()\n",
    "    if Number > orignal[-1]: \n",
    "        print(\"Number is greater\")\n",
    "    else:\n",
    "        print(\"Number is not greater\")\n",
    "        \n",
    "if __name__ == '__main__':\n",
    "    inputNumb = int(input(\"Enter the string to test : \"))\n",
    "    checkGreater(inputNumb)"
   ]
  },
  {
   "cell_type": "code",
   "execution_count": 9,
   "metadata": {},
   "outputs": [
    {
     "name": "stdout",
     "output_type": "stream",
     "text": [
      "['C:\\\\Users\\\\work\\\\anaconda3\\\\lib\\\\site-packages\\\\ipykernel_launcher.py', '-f', 'C:\\\\Users\\\\work\\\\AppData\\\\Roaming\\\\jupyter\\\\runtime\\\\kernel-e64c9b22-6afc-40d3-b6c5-f576a52dbdd3.json']\n",
      "C:\\Users\\work\\anaconda3\\lib\\site-packages\\ipykernel_launcher.py\n",
      "-f\n",
      "C:\\Users\\work\\AppData\\Roaming\\jupyter\\runtime\\kernel-e64c9b22-6afc-40d3-b6c5-f576a52dbdd3.json\n"
     ]
    }
   ],
   "source": [
    "# P15_Arguments.py\n",
    "# This program gives a demo if how arguments can be passed while running python ptigrams.\n",
    "# nb cant support this built in\n",
    "import sys\n",
    "\n",
    "print(sys.argv)\n",
    "\n",
    "for n in sys.argv:\n",
    "    print(n)"
   ]
  },
  {
   "cell_type": "code",
   "execution_count": 13,
   "metadata": {},
   "outputs": [
    {
     "name": "stdout",
     "output_type": "stream",
     "text": [
      "Enter the string to test : aeiou aeiou \n",
      "10\n"
     ]
    }
   ],
   "source": [
    "# P16_CountVowels.py\n",
    "# This programs counts the vowels present in the user input\n",
    "\n",
    "def countVowels(sentence):\n",
    "    vowelsList = ['a', 'e', 'i', 'o', 'u']\n",
    "    currCount = 0\n",
    "    for vowel in vowelsList:\n",
    "        currCount = currCount + list(sentence.lower()).count(vowel)\n",
    "    print(currCount)\n",
    "\n",
    "if __name__ == '__main__':\n",
    "    inputString = input(\"Enter the string to test : \")\n",
    "    countVowels(inputString)\n",
    "    "
   ]
  },
  {
   "cell_type": "code",
   "execution_count": 19,
   "metadata": {},
   "outputs": [
    {
     "name": "stdout",
     "output_type": "stream",
     "text": [
      "Enter the space seperated numbers : 1 2 3 4 5 6 7 8 9\n",
      "Even nos : ['2', '4', '6', '8']\n",
      " Odd nos : ['1', '3', '5', '7', '9']\n"
     ]
    }
   ],
   "source": [
    "# P17_EvenOdd.py\n",
    "# This program takes input from user and sorts the numbers in two arrays, one of even and other of odd \n",
    "\n",
    "def evenOdd(numbers):\n",
    "    '''This function divides the numbers in two array, oddArr and evenArr each'''\n",
    "    evenArr = []\n",
    "    oddArr = []\n",
    "    for number in numbers :\n",
    "        if int(number)%2 == 0 :\n",
    "            evenArr.append(number)\n",
    "        else:\n",
    "            oddArr.append(number)\n",
    "    return evenArr, oddArr\n",
    "\n",
    "if __name__ =='__main__':\n",
    "    userInput = input(\"Enter the space seperated numbers : \")\n",
    "    userInput = list(userInput.split())\n",
    "    evenArr, oddArr = evenOdd(userInput)\n",
    "    print('Even nos : ' + str(evenArr) + \"\\n Odd nos : \" + str(oddArr))\n",
    "    "
   ]
  },
  {
   "cell_type": "code",
   "execution_count": 20,
   "metadata": {},
   "outputs": [
    {
     "name": "stdout",
     "output_type": "stream",
     "text": [
      "Enter a number: 21\n",
      "Unsuccessful, this instance will be reported, check the log file\n"
     ]
    }
   ],
   "source": [
    "# P18_Logging.py\n",
    "# This program illustrates a logging example\n",
    "\n",
    "import logging\n",
    "\n",
    "def log(number):\n",
    "    '''This function creates a log file if an error is reported'''\n",
    "    logging.basicConfig(filename='P18-logfile.txt', level = logging.INFO)\n",
    "    try:\n",
    "        if int(number) % 2 == 0:\n",
    "            print('Successful')\n",
    "        else:\n",
    "            print(\"Unsuccessful, this instance will be reported, check the log file\")\n",
    "            logging.info('Invalid Entry')\n",
    "    except:\n",
    "        print(\"Please enter a valid integer\")\n",
    "        \n",
    "if __name__ == '__main__':\n",
    "    try:\n",
    "        userInput = int(input('Enter a number: '))\n",
    "        log(userInput)\n",
    "    except:\n",
    "        print('Please enter a valid integer')"
   ]
  },
  {
   "cell_type": "code",
   "execution_count": 1,
   "metadata": {},
   "outputs": [
    {
     "name": "stdout",
     "output_type": "stream",
     "text": [
      "C:\\Users\\work\\Documents\\GitHub\\generic-python\\programs\\notebooks\n",
      "Here i is  1\n",
      "Here i is  2\n",
      "Here i is  3\n",
      "Here i is  4\n",
      "Here i is  5\n",
      "Here i is  6\n",
      "Here i is  7\n",
      "Here i is  8\n",
      "Here i is  9\n"
     ]
    },
    {
     "ename": "FileExistsError",
     "evalue": "[WinError 183] Cannot create a file when that file already exists: 'newDir9' -> 'newDir10'",
     "output_type": "error",
     "traceback": [
      "\u001b[1;31m---------------------------------------------------------------------------\u001b[0m",
      "\u001b[1;31mFileExistsError\u001b[0m                           Traceback (most recent call last)",
      "\u001b[1;32m<ipython-input-1-afd610c23b7b>\u001b[0m in \u001b[0;36m<module>\u001b[1;34m\u001b[0m\n\u001b[0;32m     10\u001b[0m \u001b[1;32mfor\u001b[0m \u001b[0mi\u001b[0m \u001b[1;32min\u001b[0m \u001b[0mrange\u001b[0m\u001b[1;33m(\u001b[0m\u001b[1;36m1\u001b[0m\u001b[1;33m,\u001b[0m \u001b[1;36m10\u001b[0m\u001b[1;33m)\u001b[0m\u001b[1;33m:\u001b[0m\u001b[1;33m\u001b[0m\u001b[1;33m\u001b[0m\u001b[0m\n\u001b[0;32m     11\u001b[0m     \u001b[0mprint\u001b[0m\u001b[1;33m(\u001b[0m\u001b[1;34m'Here i is '\u001b[0m\u001b[1;33m,\u001b[0m \u001b[0mi\u001b[0m\u001b[1;33m)\u001b[0m\u001b[1;33m\u001b[0m\u001b[1;33m\u001b[0m\u001b[0m\n\u001b[1;32m---> 12\u001b[1;33m     \u001b[0mos\u001b[0m\u001b[1;33m.\u001b[0m\u001b[0mrename\u001b[0m\u001b[1;33m(\u001b[0m\u001b[1;34m'newDir'\u001b[0m\u001b[1;33m+\u001b[0m \u001b[0mstr\u001b[0m\u001b[1;33m(\u001b[0m\u001b[0mi\u001b[0m\u001b[1;33m)\u001b[0m\u001b[1;33m,\u001b[0m \u001b[1;34m'newDir'\u001b[0m \u001b[1;33m+\u001b[0m \u001b[0mstr\u001b[0m\u001b[1;33m(\u001b[0m\u001b[0mi\u001b[0m\u001b[1;33m+\u001b[0m\u001b[1;36m1\u001b[0m\u001b[1;33m)\u001b[0m\u001b[1;33m)\u001b[0m\u001b[1;33m\u001b[0m\u001b[1;33m\u001b[0m\u001b[0m\n\u001b[0m\u001b[0;32m     13\u001b[0m     \u001b[0mtime\u001b[0m\u001b[1;33m.\u001b[0m\u001b[0msleep\u001b[0m\u001b[1;33m(\u001b[0m\u001b[1;36m2\u001b[0m\u001b[1;33m)\u001b[0m\u001b[1;33m\u001b[0m\u001b[1;33m\u001b[0m\u001b[0m\n",
      "\u001b[1;31mFileExistsError\u001b[0m: [WinError 183] Cannot create a file when that file already exists: 'newDir9' -> 'newDir10'"
     ]
    }
   ],
   "source": [
    "# P20_OsModule.py\n",
    "# This program illustrates the example for os module in short\n",
    "\n",
    "import os\n",
    "import time\n",
    "\n",
    "print(os.getcwd()) # Prints the current working directory\n",
    "\n",
    "os.mkdir('newDir1')\n",
    "for i in range(1, 10):\n",
    "    print('Here i is ', i)\n",
    "    os.rename('newDir'+ str(i), 'newDir' + str(i+1))\n",
    "    time.sleep(2)"
   ]
  },
  {
   "cell_type": "code",
   "execution_count": 3,
   "metadata": {},
   "outputs": [
    {
     "name": "stdout",
     "output_type": "stream",
     "text": [
      "Enter the number between 0 to 20 : 15\n",
      "Too small\n",
      "Enter the number between 0 to 20 : 19\n",
      "You have got it in 2\n"
     ]
    }
   ],
   "source": [
    "# P21_GuessTheNumber.py\n",
    "# This program helps guess the random generated number\n",
    "\n",
    "import random\n",
    "\n",
    "def guess():\n",
    "    randomNumber = random.randint(0, 21)\n",
    "    count = 0\n",
    "    \n",
    "    while True:\n",
    "        count +=1\n",
    "        number = int(input(\"Enter the number between 0 to 20 : \"))\n",
    "        if number > randomNumber :\n",
    "            print(\"Too large\")\n",
    "        elif number < randomNumber :\n",
    "            print(\"Too small\")\n",
    "        elif number == randomNumber :\n",
    "            print(\"You have got it in {0}\".format(str(count)))\n",
    "            break\n",
    "if __name__ == '__main__':\n",
    "    guess()\n",
    "    "
   ]
  },
  {
   "cell_type": "code",
   "execution_count": 12,
   "metadata": {},
   "outputs": [
    {
     "name": "stdout",
     "output_type": "stream",
     "text": [
      "Please enter the target number from the list [1, 2, 3, 4, 5, 6, 7, 8, 9] : 3\n",
      "Target found at position :  2 in 3 iterations\n"
     ]
    }
   ],
   "source": [
    "# P22_SequentialSearch.py\n",
    "# This program is an example for sequential search\n",
    "\n",
    "def sequentialSearch(target, ipList):\n",
    "    position = 0\n",
    "    global iterations\n",
    "    iterations = 0\n",
    "    while position < len(ipList):\n",
    "        iterations += 1\n",
    "        if target == ipList[position]:\n",
    "            return position\n",
    "        position += 1\n",
    "    return -1 # failure code\n",
    "\n",
    "if __name__=='__main__':\n",
    "    ListN=[1,2,3,4,5,6,7,8,9]\n",
    "    targetNumber = int(input(\"Please enter the target number from the list {0} : \".format(str(ListN))))\n",
    "    position = sequentialSearch(targetNumber, ListN)\n",
    "    if position != -1 :\n",
    "        print('Target found at position : ', position, 'in', iterations, 'iterations')\n",
    "    else:\n",
    "        print('Target not found in the list')\n"
   ]
  },
  {
   "cell_type": "code",
   "execution_count": null,
   "metadata": {},
   "outputs": [],
   "source": [
    "# P23_BinarySearch.py\n",
    "# This program gives an example of binary search algorithm\n",
    "\n",
    "def binarySearch(target, List):"
   ]
  }
 ],
 "metadata": {
  "kernelspec": {
   "display_name": "Python 3",
   "language": "python",
   "name": "python3"
  },
  "language_info": {
   "codemirror_mode": {
    "name": "ipython",
    "version": 3
   },
   "file_extension": ".py",
   "mimetype": "text/x-python",
   "name": "python",
   "nbconvert_exporter": "python",
   "pygments_lexer": "ipython3",
   "version": "3.8.5"
  }
 },
 "nbformat": 4,
 "nbformat_minor": 4
}
