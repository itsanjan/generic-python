{
 "cells": [
  {
   "cell_type": "code",
   "execution_count": 12,
   "metadata": {},
   "outputs": [
    {
     "name": "stdout",
     "output_type": "stream",
     "text": [
      "Enter the level value for patterns : 5\n",
      "\n",
      "*\n",
      "**\n",
      "***\n",
      "****\n",
      "*****\n",
      "\n",
      "*****\n",
      "****\n",
      "***\n",
      "**\n",
      "*\n",
      "\n",
      "\n",
      "*****\n",
      " ****\n",
      "  ***\n",
      "   **\n",
      "    *\n",
      "     \n"
     ]
    }
   ],
   "source": [
    "    #-- P05_Pattern.py\n",
    "    \n",
    "    def tree_pattern(level):\n",
    "        '''\n",
    "        This function prints the following pattern:\n",
    "        <blank>\n",
    "        *\n",
    "        **\n",
    "        ***\n",
    "        ****\n",
    "        '''\n",
    "        for n in range(0, level+1):\n",
    "            print('*'*n, end='\\n')\n",
    "            \n",
    "    def inverted_tree_pattern(level):\n",
    "        '''\n",
    "        This function prints the following pattern:\n",
    "        <blank>\n",
    "        ****\n",
    "        ***\n",
    "        **\n",
    "        *\n",
    "        '''\n",
    "        print()\n",
    "        for n in range(0, level+1):\n",
    "            print('*'*(level-n), end='\\n')\n",
    "            \n",
    "    def right_aligned_inverted_tree_pattern(level):\n",
    "        '''This function prints the following pattern:\n",
    "        <blank>\n",
    "        ****\n",
    "         ***\n",
    "          **\n",
    "           *\n",
    "        '''\n",
    "        print()\n",
    "        for n in range(0, level+1):\n",
    "            print(' '*n + '*'*(level-n), end='\\n')\n",
    "            \n",
    "    if __name__=='__main__':\n",
    "        ip_level = int(input(\"Enter the level value for patterns : \"))\n",
    "        tree_pattern(ip_level)\n",
    "        inverted_tree_pattern(ip_level)\n",
    "        right_aligned_inverted_tree_pattern(ip_level)\n",
    "\n",
    "\n",
    "        "
   ]
  },
  {
   "cell_type": "code",
   "execution_count": 14,
   "metadata": {},
   "outputs": [
    {
     "name": "stdout",
     "output_type": "stream",
     "text": [
      "Enter a string : anjan\n",
      "j 1\n",
      "a 2\n",
      "n 2\n"
     ]
    }
   ],
   "source": [
    "# P06_CharCount.py\n",
    "\n",
    "def count_character(input):\n",
    "    # This function counts the frequency in the input string\n",
    "    for char in set(input):\n",
    "        print(char, input.count(char))\n",
    "        \n",
    "if __name__ == '__main__':\n",
    "    user_input = str(input(\"Enter a string : \"))\n",
    "    count_character(user_input)"
   ]
  },
  {
   "cell_type": "code",
   "execution_count": 34,
   "metadata": {},
   "outputs": [
    {
     "name": "stdout",
     "output_type": "stream",
     "text": [
      "Enter number to check to for prime : 101\n",
      "Number is prime\n"
     ]
    }
   ],
   "source": [
    "# P07_PrimeNumber.py\n",
    "#This program checks whether the entered number is prime or not\n",
    "\n",
    "def checkPrime(number):\n",
    "    count = 0\n",
    "    if number < 0 :\n",
    "        print (\"Number must be positive\")\n",
    "    \n",
    "    if number > 0 :\n",
    "        for n in range(2,int(number/2)+1):\n",
    "            if number % n == 0 :\n",
    "                isPrime = False\n",
    "            else :\n",
    "                isPrime = True\n",
    "\n",
    "    if isPrime : print(\"Number is prime\")\n",
    "    else : print(\"Number is composite\")\n",
    "        \n",
    "if __name__ == '__main__':\n",
    "    input_number = int(input('Enter number to check to for prime : '))\n",
    "    checkPrime(input_number)"
   ]
  },
  {
   "cell_type": "code",
   "execution_count": 48,
   "metadata": {},
   "outputs": [
    {
     "name": "stdout",
     "output_type": "stream",
     "text": [
      "Enter a number : 9\n",
      "0,1,1,2,3,5,8,13,21,"
     ]
    }
   ],
   "source": [
    "# P08_Fibonacci.py\n",
    "# This program calculates the fibonacci series till the nth term\n",
    "# 0 1 1 2 3 5 8 13 21 34 ...\n",
    "\n",
    "def fibonacci_number_seq(number):\n",
    "    a = 0\n",
    "    b = 1\n",
    "    print(a, end=',')\n",
    "    for n in range(1, number):\n",
    "        a, b = a + b, a\n",
    "        print(a, end=',')\n",
    "    \n",
    "    \n",
    "if __name__ == '__main__':\n",
    "    user_input = int(input('Enter a number : '))\n",
    "    fibonacci_number_seq(user_input)                  "
   ]
  },
  {
   "cell_type": "code",
   "execution_count": 50,
   "metadata": {},
   "outputs": [],
   "source": [
    "# P10_LCM.py\n",
    "# LCM (a,b) = a.b / gcd(a,b) | input : 12 15 - Out : 60"
   ]
  },
  {
   "cell_type": "code",
   "execution_count": null,
   "metadata": {},
   "outputs": [],
   "source": []
  }
 ],
 "metadata": {
  "kernelspec": {
   "display_name": "Python 3",
   "language": "python",
   "name": "python3"
  },
  "language_info": {
   "codemirror_mode": {
    "name": "ipython",
    "version": 3
   },
   "file_extension": ".py",
   "mimetype": "text/x-python",
   "name": "python",
   "nbconvert_exporter": "python",
   "pygments_lexer": "ipython3",
   "version": "3.8.5"
  }
 },
 "nbformat": 4,
 "nbformat_minor": 4
}
